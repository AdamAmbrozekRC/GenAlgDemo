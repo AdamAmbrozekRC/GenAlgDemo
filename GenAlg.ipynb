{
 "cells": [
  {
   "cell_type": "code",
   "execution_count": 4,
   "id": "de052bcd",
   "metadata": {},
   "outputs": [
    {
     "name": "stdout",
     "output_type": "stream",
     "text": [
      "Python 3.9.6\r\n"
     ]
    }
   ],
   "source": [
    "!python --version"
   ]
  },
  {
   "cell_type": "markdown",
   "id": "0c8b9cfd",
   "metadata": {},
   "source": [
    "# Genetic algorithm implementation"
   ]
  },
  {
   "cell_type": "code",
   "execution_count": 5,
   "id": "4efa1ce9",
   "metadata": {},
   "outputs": [],
   "source": [
    "from typing import List, Optional, Tuple\n",
    "import random\n",
    "from random import uniform, randrange"
   ]
  },
  {
   "cell_type": "code",
   "execution_count": 6,
   "id": "935c6383",
   "metadata": {},
   "outputs": [],
   "source": [
    "# genetic algorithm parameters\n",
    "POPULATION_SIZE: int = 100\n",
    "GENOME_LENGHT: int = 10\n",
    "VALUES_RANGE: Tuple[float, float] = (-3.0, 3.0)\n",
    "CROSSOVER_PERCENTAGE: float = 0.3\n",
    "SURVIVORS_PERCENTAGE: float = 0.1\n",
    "MUTATION_PROBABILITY: float = 0.1"
   ]
  },
  {
   "cell_type": "markdown",
   "id": "9a0fba26",
   "metadata": {},
   "source": [
    "```\n",
    "class Gene {\n",
    "  public Float value;\n",
    "  public Gene(Float value) { this.value = value; }\n",
    "  public static Gene get_random(Pair<Float, Float> values_range) {\n",
    "    random_value = RandomFloat(values_range.getValue0(), values_range.getValue1();\n",
    "    return new Gene(random_value);}}\n",
    "```"
   ]
  },
  {
   "cell_type": "code",
   "execution_count": 7,
   "id": "46d27d73",
   "metadata": {},
   "outputs": [],
   "source": [
    "class Gene:  # == 'trait'/'feature'\n",
    "    def __init__(self, value: float):\n",
    "        self.value: float = value\n",
    "    @classmethod\n",
    "    def get_random(cls):\n",
    "        random_value = uniform(VALUES_RANGE[0], VALUES_RANGE[1])\n",
    "        return cls(random_value)"
   ]
  },
  {
   "cell_type": "code",
   "execution_count": 9,
   "id": "1c0dc6a6",
   "metadata": {},
   "outputs": [],
   "source": [
    "# class Genome {\n",
    "#   public ArrayList<Gene> genes;\n",
    "#   public Genome(ArrayList<Gene> genes) { this.genes = genes; }}\n",
    "\n",
    "class Genome:  # == 'set of traits/features'\n",
    "    def __init__(self, genes: List[Gene]):\n",
    "        self.genes: List[Gene] = genes\n",
    "    @classmethod\n",
    "    def get_random(cls):\n",
    "        genes: List[Gene] = []\n",
    "        for gene_index in range(GENOME_LENGHT):\n",
    "            genes.append(Gene.get_random())\n",
    "        return cls(genes)\n",
    "    def crossover(self, other_genome):\n",
    "        result_genes: List[Gene] = []\n",
    "        for gene_index in range(len(self.genes)):\n",
    "            if uniform(0.0, 1.0) < 0.5:\n",
    "                result_genes.append(self.genes[gene_index])\n",
    "            else:\n",
    "                result_genes.append(other_genome[gene_index])\n",
    "        return Genome(result_genes)\n",
    "    def mutate(self):\n",
    "        if uniform(0.0, 1.0) < MUTATION_PROBABILITY:\n",
    "            mutating_gene_index = randrange(len(self.genes))\n",
    "            self.genes[mutating_gene_index] = uniform(VALUES_RANGE[0], VALUES_RANGE[1])"
   ]
  },
  {
   "cell_type": "code",
   "execution_count": 10,
   "id": "982eda00",
   "metadata": {},
   "outputs": [],
   "source": [
    "# class Individual {\n",
    "#   public Genome genome;\n",
    "#   public Float score;\n",
    "#   public Individual(Genome genome) { this.genome = genome }}\n",
    "\n",
    "class Individual:  # 'genome representative'\n",
    "    def __init__(self, genome: Genome):\n",
    "        self.genome: Genome = genome\n",
    "        self.score: Optional[float] = None\n",
    "    @classmethod\n",
    "    def get_random(cls):\n",
    "        genome = Genome.get_random()\n",
    "        return cls(genome)"
   ]
  },
  {
   "cell_type": "code",
   "execution_count": 11,
   "id": "10187d6a",
   "metadata": {},
   "outputs": [],
   "source": [
    "# class Population {\n",
    "#   public ArrayList<Individual> individuals;\n",
    "#   public Population(ArrayList<Individual> individuals) { this.individuals = individuals }}\n",
    "\n",
    "class Population:  # 'set of Individuals'\n",
    "    def __init__(self, individuals: List[Individual]):\n",
    "        self.individuals: List[Individual] = individuals\n",
    "    def get_the_best(self) -> Individual:\n",
    "        return self.individuals.sort(key=lambda individual:individual.score)[0]\n",
    "    def get_top_scored(self, percentage: float) -> List[Individual]:\n",
    "        n_best: int = (len(self.individuals) * percentage).ceil()\n",
    "        return self.individuals[:n_best]"
   ]
  },
  {
   "cell_type": "code",
   "execution_count": 12,
   "id": "5d0b178f",
   "metadata": {},
   "outputs": [],
   "source": [
    "def generate_init_population():\n",
    "    generated_individuals: List[Individual] = []\n",
    "    for individual_index in range(POPULATION_SIZE):\n",
    "        generated_individuals.append(Individual.get_random())\n",
    "    return Population(generated_individuals)"
   ]
  },
  {
   "cell_type": "code",
   "execution_count": 13,
   "id": "6a387314",
   "metadata": {},
   "outputs": [],
   "source": [
    "def generate_children(individuals: List[Individual], children_number: int, mutation_probability: float) -> List[Individual]:\n",
    "    children: List[Individual] = []\n",
    "    for child_index in range(children_number):\n",
    "        parent1: Individual = random.choice(individuals)\n",
    "        parent2: Individual = random.choice(individuals.copy().remove(parent1))\n",
    "        new_genome = parent1.genome.crossover(parent2.genome)\n",
    "        new_genome.mutate()\n",
    "        children.append(Individual(new_genome))\n",
    "    return children"
   ]
  },
  {
   "cell_type": "code",
   "execution_count": 14,
   "id": "e5171e50",
   "metadata": {},
   "outputs": [],
   "source": [
    "class GeneticAlgProblemSolverAbstractClass:\n",
    "    def __init__(self, target_score: float, iterations_limit: int):\n",
    "        self.target_score: float = target_score\n",
    "        self.iterations_limit: int = iterations_limit\n",
    "        # generate initial population\n",
    "        self.current_population: Population = generate_init_population()\n",
    "            \n",
    "    # THIS IS THE GENETIC ALGORITHM\n",
    "    def solve(self) -> Individual:\n",
    "        # rate individuals\n",
    "        self.rate_individuals()\n",
    "        iteration: int = 0\n",
    "        # if stop condition is met - return the best individual from current_population\n",
    "        while current_population.get_the_best().score < self.target_score and iteration < self.iterations_limit:\n",
    "            # choose individuals for crossover\n",
    "            crossover_individuals: List[Individual] = current_population.get_top_scored(CROSSOVER_PERCENTAGE)\n",
    "            # get the best individuals from current_population\n",
    "            survivors: List[Individual] = current_population.get_top_scored(SURVIVORS_PERCENTAGE)\n",
    "            # generate children by crossover and mutation\n",
    "            children: List[Individual] = generate_children(crossover_individuals, POPULATION_SIZE - len(survivors))\n",
    "            # create new population as children plus the best individuals from current_population\n",
    "            self.current_population = Population(children + survivors)\n",
    "            # rate individuals\n",
    "            self.rate_individuals()\n",
    "        return current_population.get_the_best()\n",
    "    \n",
    "    def rate_individuals(self):\n",
    "        for individual in self.current_population.individuals:\n",
    "            if individual.score is None:  # if it's not a survivor (avoid rating multiple times)\n",
    "                individual.score = self.rate_one_individual(individual)\n",
    "                \n",
    "    def rate_one_individual(self, individual) -> float:\n",
    "        # override this method:\n",
    "        # 1. Interpret individual's genome as potential solution\n",
    "        # 2. Confront it with the problem\n",
    "        # 3. Return score for this solution/individual/genome\n",
    "        pass"
   ]
  },
  {
   "cell_type": "markdown",
   "id": "3477e968",
   "metadata": {},
   "source": [
    "# Solving problem"
   ]
  },
  {
   "cell_type": "code",
   "execution_count": null,
   "id": "af61a1d0",
   "metadata": {},
   "outputs": [],
   "source": []
  }
 ],
 "metadata": {
  "kernelspec": {
   "display_name": "Python 3 (ipykernel)",
   "language": "python",
   "name": "python3"
  },
  "language_info": {
   "codemirror_mode": {
    "name": "ipython",
    "version": 3
   },
   "file_extension": ".py",
   "mimetype": "text/x-python",
   "name": "python",
   "nbconvert_exporter": "python",
   "pygments_lexer": "ipython3",
   "version": "3.9.6"
  }
 },
 "nbformat": 4,
 "nbformat_minor": 5
}
