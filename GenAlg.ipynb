{
 "cells": [
  {
   "cell_type": "code",
   "execution_count": 27,
   "id": "de052bcd",
   "metadata": {},
   "outputs": [
    {
     "name": "stdout",
     "output_type": "stream",
     "text": [
      "Python 3.9.6\r\n"
     ]
    }
   ],
   "source": [
    "!python --version"
   ]
  },
  {
   "cell_type": "code",
   "execution_count": 28,
   "id": "4efa1ce9",
   "metadata": {},
   "outputs": [],
   "source": [
    "from typing import List, Optional, Tuple\n",
    "from random import uniform, randrange"
   ]
  },
  {
   "cell_type": "markdown",
   "id": "9a0fba26",
   "metadata": {},
   "source": [
    "```\n",
    "class Gene {\n",
    "  public Float value;\n",
    "  public Gene(Float value) { this.value = value; }\n",
    "  public static Gene get_random(Pair<Float, Float> values_range) {\n",
    "    random_value = RandomFloat(values_range.getValue0(), values_range.getValue1();\n",
    "    return new Gene(random_value);}}\n",
    "```"
   ]
  },
  {
   "cell_type": "code",
   "execution_count": 29,
   "id": "46d27d73",
   "metadata": {},
   "outputs": [],
   "source": [
    "class Gene:  # == 'trait'/'feature'\n",
    "    def __init__(self, value: float):\n",
    "        self.value: float = value\n",
    "    @classmethod\n",
    "    def get_random(cls, values_range: Tuple[float, float]):\n",
    "        random_value = uniform(values_range[0], values_range[1])\n",
    "        return cls(random_value)"
   ]
  },
  {
   "cell_type": "code",
   "execution_count": 30,
   "id": "1c0dc6a6",
   "metadata": {},
   "outputs": [],
   "source": [
    "# class Genome {\n",
    "#   public ArrayList<Gene> genes;\n",
    "#   public Genome(ArrayList<Gene> genes) { this.genes = genes; }}\n",
    "\n",
    "class Genome:  # == 'set of traits/features'\n",
    "    def __init__(self, genes: List[Gene]):\n",
    "        self.genes: List[Gene] = genes\n",
    "    @classmethod\n",
    "    def get_random(cls, genome_lenght: int, values_range: Tuple[float, float]):\n",
    "        genes: List[Gene] = []\n",
    "        for gene_index in range(genome_lenght):\n",
    "            genes.append(Gene.get_random(values_range))\n",
    "        return cls(genes)\n",
    "    def crossover(self, other_genome: Genome) -> Genome:\n",
    "        result_genes: List[Gene] = []\n",
    "        for gene_index in range(len(self.genes)):\n",
    "            if uniform(0.0, 1.0) < 0.5:\n",
    "                result_genes.append(self.genes[gene_index])\n",
    "            else:\n",
    "                result_genes.append(other_genome[gene_index])\n",
    "        return Genome(result_genes)\n",
    "    def mutate(self, probability: float, values_range: Tuple[float, float]):\n",
    "        if uniform(0.0, 1.0) < probability:\n",
    "            mutating_gene_index = randrange(len(self.genes))\n",
    "            self.genes[mutating_gene_index] = uniform(values_range[0], values_range[1])"
   ]
  },
  {
   "cell_type": "code",
   "execution_count": 31,
   "id": "982eda00",
   "metadata": {},
   "outputs": [],
   "source": [
    "# class Individual {\n",
    "#   public Genome genome;\n",
    "#   public Float score;\n",
    "#   public Individual(Genome genome) { this.genome = genome }}\n",
    "\n",
    "class Individual:  # 'genome representative'\n",
    "    def __init__(self, genome: Genome):\n",
    "        self.genome: Genome = genome\n",
    "        self.score: Optional[float] = None\n",
    "    @classmethod\n",
    "    def get_random(cls, genome_lenght: int, values_range: Tuple[float, float]):\n",
    "        genome = Genome.get_random(genome_lenght, values_range)\n",
    "        return cls(genome)"
   ]
  },
  {
   "cell_type": "code",
   "execution_count": 47,
   "id": "10187d6a",
   "metadata": {},
   "outputs": [],
   "source": [
    "# class Population {\n",
    "#   public ArrayList<Individual> individuals;\n",
    "#   public Population(ArrayList<Individual> individuals) { this.individuals = individuals }}\n",
    "\n",
    "class Population:  # 'set of Individuals'\n",
    "    def __init__(self, individuals: List[Individual]):\n",
    "        self.individuals: List[Individual] = individuals\n",
    "    def get_the_best(self) -> Individual:\n",
    "        return self.individuals.sort(key=lambda individual:individual.score)[0]\n",
    "    def get_top_scored(self, percentage: float) -> List[Individual]:\n",
    "        n_best: int = (len(self.individuals) * percentage).ceil()\n",
    "        return self.individuals[:n_best]"
   ]
  },
  {
   "cell_type": "code",
   "execution_count": 56,
   "id": "5d0b178f",
   "metadata": {},
   "outputs": [],
   "source": [
    "def generate_init_population(population_size: int, genome_lenght: int, values_range: Tuple[float, float]):\n",
    "    generated_individuals: List[Individual] = []\n",
    "    for individual_index in range(population_size):\n",
    "        generated_individuals.append(Individual.get_random(genome_lenght, values_range))\n",
    "    return Population(generated_individuals)"
   ]
  },
  {
   "cell_type": "code",
   "execution_count": 57,
   "id": "6a387314",
   "metadata": {},
   "outputs": [],
   "source": [
    "def generate_new_individuals(individuals: List[Individual]) -> List[Individual]:\n",
    "    pass  # TODO"
   ]
  },
  {
   "cell_type": "code",
   "execution_count": 55,
   "id": "e5171e50",
   "metadata": {},
   "outputs": [
    {
     "ename": "IndentationError",
     "evalue": "expected an indented block (2262216412.py, line 2)",
     "output_type": "error",
     "traceback": [
      "\u001b[0;36m  File \u001b[0;32m\"/var/folders/zg/0dpk69490qlcx26x601h6bbh0000gn/T/ipykernel_3238/2262216412.py\"\u001b[0;36m, line \u001b[0;32m2\u001b[0m\n\u001b[0;31m    # TODO\u001b[0m\n\u001b[0m          ^\u001b[0m\n\u001b[0;31mIndentationError\u001b[0m\u001b[0;31m:\u001b[0m expected an indented block\n"
     ]
    }
   ],
   "source": [
    "class ProblemAbstractClass:\n",
    "    def __init__(self, population_size: int, genome_lenght: int, values_range: Tuple[float, float], crossover_percentage: float, survivors_percentage: float, mutation_probability: float, target_score: float, iterations_limit: int):\n",
    "        self.population_size: int = population_size\n",
    "        self.genome_lenght: int = genome_lenght\n",
    "        self.values_range: Tuple[float, float] = values_range\n",
    "        self.crossover_percentage: float = crossover_percentage\n",
    "        self.survivors_percentage: float = survived_percentage\n",
    "        self.mutation_probability: float = mutation_probability\n",
    "        self.target_score: float = target_score\n",
    "        self.iterations_limit: int = iterations_limit\n",
    "        # generate initial population\n",
    "        self.current_population: Population = generate_init_population(self.population_size, self.genome_lenght, self.values_range)\n",
    "            \n",
    "    # THIS IS THE GENETIC ALGORITHM\n",
    "    def solve(self) -> Individual:\n",
    "        # rate individuals\n",
    "        self.rate_individuals()\n",
    "        iteration: int = 0\n",
    "        # if stop condition is met - return the best individual from current_population\n",
    "        while current_population.get_the_best().score < self.target_score and iteration < self.iterations_limit:\n",
    "            # choose individuals for crossover\n",
    "            crossover_individuals: List[Individual] = current_population.get_top_scored(self.crossover_percentage)\n",
    "            # generate children subpopulation by crossover and mutation\n",
    "            children: List[Individual] = generate_new_individuals(crossover_individuals)\n",
    "            # create new population as children subpopulation plus the best individuals from current_population\n",
    "            survivors: List[Individual] = current_population.get_top_scored(self.survivors_percentage)\n",
    "            self.current_population = Population(children + survivors)\n",
    "            # rate individuals\n",
    "            self.rate_individuals()\n",
    "        return current_population.get_best()\n",
    "    \n",
    "    def rate_individuals(self):\n",
    "        for individual in self.current_population.individuals:\n",
    "            if individual.score is None:  # if it's not a survivor (avoid rating multiple times)\n",
    "                self.rate_one_individual(individual)\n",
    "    def rate_one_individual(self, individual): ..."
   ]
  },
  {
   "cell_type": "code",
   "execution_count": null,
   "id": "7eb7220f",
   "metadata": {},
   "outputs": [],
   "source": []
  }
 ],
 "metadata": {
  "kernelspec": {
   "display_name": "Python 3 (ipykernel)",
   "language": "python",
   "name": "python3"
  },
  "language_info": {
   "codemirror_mode": {
    "name": "ipython",
    "version": 3
   },
   "file_extension": ".py",
   "mimetype": "text/x-python",
   "name": "python",
   "nbconvert_exporter": "python",
   "pygments_lexer": "ipython3",
   "version": "3.9.6"
  }
 },
 "nbformat": 4,
 "nbformat_minor": 5
}
